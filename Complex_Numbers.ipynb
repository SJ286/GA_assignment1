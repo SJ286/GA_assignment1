{
 "cells": [
  {
   "cell_type": "code",
   "execution_count": 332,
   "metadata": {
    "collapsed": true
   },
   "outputs": [],
   "source": [
    "import math,cmath"
   ]
  },
  {
   "cell_type": "code",
   "execution_count": 340,
   "metadata": {},
   "outputs": [],
   "source": [
    "class complex_number():\n",
    "    def __init__(self, x, y):\n",
    "        self.x = x\n",
    "        self.y = y\n",
    "    def __add__(self, other):\n",
    "        return complex_number(self.x+other.x, self.y+other.y)\n",
    "    \n",
    "    def __sub__(self, other):\n",
    "        return complex_number(self.x-other.x, self.y-other.y)\n",
    "    \n",
    "    def __mul__(self, other):\n",
    "        return complex_number(self.x *other.x - self.y*other.y, self.x*other.y+self.y*other.x)\n",
    "    \n",
    "    def abs(self):\n",
    "        return sqrt(self.x**2 + self.y**2)\n",
    "    \n",
    "    def __div__(self, other):\n",
    "        d = float(other.x**2 + other.y**2)\n",
    "        result_r = (self.x*other.x + self.y*other.y)/d\n",
    "        result_i = (self.x*other.y - self.y*other.x)/d\n",
    "        return complex_number(result_r,result_i)      \n",
    "    \n",
    "    def __str__(self):\n",
    "        return str(float(self.x))+('+' if self.y>=0 else '-')+str(float(abs(self.y)))+'i'\n",
    "    \n",
    "    def real(self):\n",
    "        return self.x  \n",
    "    \n",
    "    def imag(self):\n",
    "        return self.y  \n",
    "    \n",
    "    def conjugate(self):\n",
    "        return str(self.x)+('-' if self.y>=0 else'+')+str(abs(self.y))+'i'\n",
    "    \n",
    "    def argument(self):\n",
    "        return math.atan(self.y/self.x)\n",
    "    \n",
    "    \n",
    "    \n",
    "    "
   ]
  },
  {
   "cell_type": "code",
   "execution_count": 344,
   "metadata": {},
   "outputs": [],
   "source": [
    "c1=complex_number(-3,-4)\n",
    "c2=complex_number(4,3)"
   ]
  },
  {
   "cell_type": "markdown",
   "metadata": {},
   "source": [
    "ALL COMPLEX NUMBER OPERATIONS ARE PRINTED BELOW.\n",
    "I WASN'T ABLE TO SOLVE ONE ERROR."
   ]
  },
  {
   "cell_type": "code",
   "execution_count": 345,
   "metadata": {},
   "outputs": [
    {
     "name": "stdout",
     "output_type": "stream",
     "text": [
      "ARGUMENT: 0.9272952180016122\n",
      "CONJUGATE: -3+4i\n",
      "REAL PART: -3\n",
      "IMAGINARY PART: -4\n",
      "ABSOLUTE: 5.0\n",
      "ADDITION: 1.0-1.0i\n",
      "SUBTRACTION: -7.0-7.0i\n",
      "MULTIPLICATION: 0.0-25.0i\n"
     ]
    },
    {
     "ename": "TypeError",
     "evalue": "unsupported operand type(s) for /: 'complex_number' and 'complex_number'",
     "output_type": "error",
     "traceback": [
      "\u001b[1;31m---------------------------------------------------------------------------\u001b[0m",
      "\u001b[1;31mTypeError\u001b[0m                                 Traceback (most recent call last)",
      "\u001b[1;32m<ipython-input-345-21a77bea33fc>\u001b[0m in \u001b[0;36m<module>\u001b[1;34m()\u001b[0m\n\u001b[0;32m      7\u001b[0m \u001b[0mprint\u001b[0m\u001b[1;33m(\u001b[0m\u001b[1;34m\"SUBTRACTION: \"\u001b[0m \u001b[1;33m+\u001b[0m \u001b[0mstr\u001b[0m\u001b[1;33m(\u001b[0m\u001b[0mc1\u001b[0m\u001b[1;33m-\u001b[0m\u001b[0mc2\u001b[0m\u001b[1;33m)\u001b[0m\u001b[1;33m)\u001b[0m\u001b[1;33m\u001b[0m\u001b[0m\n\u001b[0;32m      8\u001b[0m \u001b[0mprint\u001b[0m\u001b[1;33m(\u001b[0m\u001b[1;34m\"MULTIPLICATION: \"\u001b[0m \u001b[1;33m+\u001b[0m \u001b[0mstr\u001b[0m\u001b[1;33m(\u001b[0m\u001b[0mc1\u001b[0m\u001b[1;33m*\u001b[0m\u001b[0mc2\u001b[0m\u001b[1;33m)\u001b[0m\u001b[1;33m)\u001b[0m\u001b[1;33m\u001b[0m\u001b[0m\n\u001b[1;32m----> 9\u001b[1;33m \u001b[0mprint\u001b[0m\u001b[1;33m(\u001b[0m\u001b[1;34m\"DIVISION: \"\u001b[0m \u001b[1;33m+\u001b[0m \u001b[0mstr\u001b[0m\u001b[1;33m(\u001b[0m\u001b[0mc1\u001b[0m\u001b[1;33m/\u001b[0m\u001b[0mc2\u001b[0m\u001b[1;33m)\u001b[0m\u001b[1;33m)\u001b[0m\u001b[1;33m\u001b[0m\u001b[0m\n\u001b[0m\u001b[0;32m     10\u001b[0m \u001b[1;33m\u001b[0m\u001b[0m\n",
      "\u001b[1;31mTypeError\u001b[0m: unsupported operand type(s) for /: 'complex_number' and 'complex_number'"
     ]
    }
   ],
   "source": [
    "print(\"ARGUMENT: \" + str(c1.argument()))\n",
    "print(\"CONJUGATE: \" + str(c1.conjugate()))\n",
    "print(\"REAL PART: \" + str(c1.real()))\n",
    "print(\"IMAGINARY PART: \" + str(c1.imag()))\n",
    "print(\"ABSOLUTE: \" + str(c1.abs()))\n",
    "print(\"ADDITION: \" + str(c1+c2))\n",
    "print(\"SUBTRACTION: \" + str(c1-c2))\n",
    "print(\"MULTIPLICATION: \" + str(c1*c2))\n",
    "print(\"DIVISION: \" + str(c1/c2))\n",
    "\n"
   ]
  },
  {
   "cell_type": "code",
   "execution_count": null,
   "metadata": {
    "collapsed": true
   },
   "outputs": [],
   "source": []
  },
  {
   "cell_type": "code",
   "execution_count": null,
   "metadata": {},
   "outputs": [],
   "source": [
    "    "
   ]
  }
 ],
 "metadata": {
  "kernelspec": {
   "display_name": "Python 3",
   "language": "python",
   "name": "python3"
  },
  "language_info": {
   "codemirror_mode": {
    "name": "ipython",
    "version": 3
   },
   "file_extension": ".py",
   "mimetype": "text/x-python",
   "name": "python",
   "nbconvert_exporter": "python",
   "pygments_lexer": "ipython3",
   "version": "3.6.1"
  }
 },
 "nbformat": 4,
 "nbformat_minor": 2
}
