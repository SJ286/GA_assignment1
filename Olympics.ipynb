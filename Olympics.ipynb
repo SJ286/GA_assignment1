{
 "cells": [
  {
   "cell_type": "code",
   "execution_count": 287,
   "metadata": {
    "collapsed": true
   },
   "outputs": [],
   "source": [
    "import pandas as pd\n",
    "import numpy as np"
   ]
  },
  {
   "cell_type": "code",
   "execution_count": 326,
   "metadata": {
    "collapsed": true
   },
   "outputs": [],
   "source": [
    "import matplotlib.pyplot as plt\n",
    "%matplotlib inline"
   ]
  },
  {
   "cell_type": "markdown",
   "metadata": {},
   "source": [
    "Below function reads data,renames rows and indexes dataframe by Country_Name"
   ]
  },
  {
   "cell_type": "code",
   "execution_count": 312,
   "metadata": {
    "collapsed": true
   },
   "outputs": [],
   "source": [
    "def load_data(file):\n",
    "    df1 = pd.read_csv(file,index_col=0,skiprows=1)\n",
    "    df = pd.DataFrame(df1)\n",
    "    df.columns = [ 'Summer', 'Gold_sum', 'Silver_sum', 'Bronze_sum', 'Total_sum', 'Winter',\n",
    "       'Gold_win', 'Silver_win', 'Bronze_win', 'Total_win', 'Games', 'Gold_tot', 'Silver_tot',\n",
    "       'Bronze_tot', 'Combined total']\n",
    "    df.drop(\"Totals\" ,axis=0 ,inplace=True)\n",
    "    df['split'] = df.index.str.split(\"\\s\\(\")\n",
    "    df['country_code'] = df['split'].str[1].str[:3]\n",
    "    df['country_name'] = df['split'].str[0]\n",
    "    df.set_index('country_name',inplace=True)\n",
    "    return df\n",
    "\n",
    "    "
   ]
  },
  {
   "cell_type": "code",
   "execution_count": 289,
   "metadata": {},
   "outputs": [],
   "source": [
    "DF = load_data(\"C:\\\\Users\\\\shubham\\\\Desktop\\\\personal\\\\ml_intern-master\\\\olympics-mini-project\\\\data\\\\olympics.csv\")"
   ]
  },
  {
   "cell_type": "code",
   "execution_count": 315,
   "metadata": {
    "scrolled": true
   },
   "outputs": [
    {
     "data": {
      "text/html": [
       "<div>\n",
       "<style>\n",
       "    .dataframe thead tr:only-child th {\n",
       "        text-align: right;\n",
       "    }\n",
       "\n",
       "    .dataframe thead th {\n",
       "        text-align: left;\n",
       "    }\n",
       "\n",
       "    .dataframe tbody tr th {\n",
       "        vertical-align: top;\n",
       "    }\n",
       "</style>\n",
       "<table border=\"1\" class=\"dataframe\">\n",
       "  <thead>\n",
       "    <tr style=\"text-align: right;\">\n",
       "      <th></th>\n",
       "      <th>Summer</th>\n",
       "      <th>Gold_sum</th>\n",
       "      <th>Silver_sum</th>\n",
       "      <th>Bronze_sum</th>\n",
       "      <th>Total_sum</th>\n",
       "      <th>Winter</th>\n",
       "      <th>Gold_win</th>\n",
       "      <th>Silver_win</th>\n",
       "      <th>Bronze_win</th>\n",
       "      <th>Total_win</th>\n",
       "      <th>Games</th>\n",
       "      <th>Gold_tot</th>\n",
       "      <th>Silver_tot</th>\n",
       "      <th>Bronze_tot</th>\n",
       "      <th>Combined total</th>\n",
       "      <th>split</th>\n",
       "      <th>country_code</th>\n",
       "    </tr>\n",
       "    <tr>\n",
       "      <th>country_name</th>\n",
       "      <th></th>\n",
       "      <th></th>\n",
       "      <th></th>\n",
       "      <th></th>\n",
       "      <th></th>\n",
       "      <th></th>\n",
       "      <th></th>\n",
       "      <th></th>\n",
       "      <th></th>\n",
       "      <th></th>\n",
       "      <th></th>\n",
       "      <th></th>\n",
       "      <th></th>\n",
       "      <th></th>\n",
       "      <th></th>\n",
       "      <th></th>\n",
       "      <th></th>\n",
       "    </tr>\n",
       "  </thead>\n",
       "  <tbody>\n",
       "    <tr>\n",
       "      <th>Afghanistan</th>\n",
       "      <td>13</td>\n",
       "      <td>0</td>\n",
       "      <td>0</td>\n",
       "      <td>2</td>\n",
       "      <td>2</td>\n",
       "      <td>0</td>\n",
       "      <td>0</td>\n",
       "      <td>0</td>\n",
       "      <td>0</td>\n",
       "      <td>0</td>\n",
       "      <td>13</td>\n",
       "      <td>0</td>\n",
       "      <td>0</td>\n",
       "      <td>2</td>\n",
       "      <td>2</td>\n",
       "      <td>[Afghanistan, AFG)]</td>\n",
       "      <td>AFG</td>\n",
       "    </tr>\n",
       "    <tr>\n",
       "      <th>Algeria</th>\n",
       "      <td>12</td>\n",
       "      <td>5</td>\n",
       "      <td>2</td>\n",
       "      <td>8</td>\n",
       "      <td>15</td>\n",
       "      <td>3</td>\n",
       "      <td>0</td>\n",
       "      <td>0</td>\n",
       "      <td>0</td>\n",
       "      <td>0</td>\n",
       "      <td>15</td>\n",
       "      <td>5</td>\n",
       "      <td>2</td>\n",
       "      <td>8</td>\n",
       "      <td>15</td>\n",
       "      <td>[Algeria, ALG)]</td>\n",
       "      <td>ALG</td>\n",
       "    </tr>\n",
       "    <tr>\n",
       "      <th>Argentina</th>\n",
       "      <td>23</td>\n",
       "      <td>18</td>\n",
       "      <td>24</td>\n",
       "      <td>28</td>\n",
       "      <td>70</td>\n",
       "      <td>18</td>\n",
       "      <td>0</td>\n",
       "      <td>0</td>\n",
       "      <td>0</td>\n",
       "      <td>0</td>\n",
       "      <td>41</td>\n",
       "      <td>18</td>\n",
       "      <td>24</td>\n",
       "      <td>28</td>\n",
       "      <td>70</td>\n",
       "      <td>[Argentina, ARG)]</td>\n",
       "      <td>ARG</td>\n",
       "    </tr>\n",
       "    <tr>\n",
       "      <th>Armenia</th>\n",
       "      <td>5</td>\n",
       "      <td>1</td>\n",
       "      <td>2</td>\n",
       "      <td>9</td>\n",
       "      <td>12</td>\n",
       "      <td>6</td>\n",
       "      <td>0</td>\n",
       "      <td>0</td>\n",
       "      <td>0</td>\n",
       "      <td>0</td>\n",
       "      <td>11</td>\n",
       "      <td>1</td>\n",
       "      <td>2</td>\n",
       "      <td>9</td>\n",
       "      <td>12</td>\n",
       "      <td>[Armenia, ARM)]</td>\n",
       "      <td>ARM</td>\n",
       "    </tr>\n",
       "    <tr>\n",
       "      <th>Australasia</th>\n",
       "      <td>2</td>\n",
       "      <td>3</td>\n",
       "      <td>4</td>\n",
       "      <td>5</td>\n",
       "      <td>12</td>\n",
       "      <td>0</td>\n",
       "      <td>0</td>\n",
       "      <td>0</td>\n",
       "      <td>0</td>\n",
       "      <td>0</td>\n",
       "      <td>2</td>\n",
       "      <td>3</td>\n",
       "      <td>4</td>\n",
       "      <td>5</td>\n",
       "      <td>12</td>\n",
       "      <td>[Australasia, ANZ) [ANZ]]</td>\n",
       "      <td>ANZ</td>\n",
       "    </tr>\n",
       "  </tbody>\n",
       "</table>\n",
       "</div>"
      ],
      "text/plain": [
       "              Summer  Gold_sum  Silver_sum  Bronze_sum  Total_sum  Winter  \\\n",
       "country_name                                                                \n",
       "Afghanistan       13         0           0           2          2       0   \n",
       "Algeria           12         5           2           8         15       3   \n",
       "Argentina         23        18          24          28         70      18   \n",
       "Armenia            5         1           2           9         12       6   \n",
       "Australasia        2         3           4           5         12       0   \n",
       "\n",
       "              Gold_win  Silver_win  Bronze_win  Total_win  Games  Gold_tot  \\\n",
       "country_name                                                                 \n",
       "Afghanistan          0           0           0          0     13         0   \n",
       "Algeria              0           0           0          0     15         5   \n",
       "Argentina            0           0           0          0     41        18   \n",
       "Armenia              0           0           0          0     11         1   \n",
       "Australasia          0           0           0          0      2         3   \n",
       "\n",
       "              Silver_tot  Bronze_tot  Combined total  \\\n",
       "country_name                                           \n",
       "Afghanistan            0           2               2   \n",
       "Algeria                2           8              15   \n",
       "Argentina             24          28              70   \n",
       "Armenia                2           9              12   \n",
       "Australasia            4           5              12   \n",
       "\n",
       "                                  split country_code  \n",
       "country_name                                          \n",
       "Afghanistan         [Afghanistan, AFG)]          AFG  \n",
       "Algeria                 [Algeria, ALG)]          ALG  \n",
       "Argentina             [Argentina, ARG)]          ARG  \n",
       "Armenia                 [Armenia, ARM)]          ARM  \n",
       "Australasia   [Australasia, ANZ) [ANZ]]          ANZ  "
      ]
     },
     "execution_count": 315,
     "metadata": {},
     "output_type": "execute_result"
    }
   ],
   "source": [
    "DF.head()"
   ]
  },
  {
   "cell_type": "markdown",
   "metadata": {},
   "source": [
    "Below function returns first country details."
   ]
  },
  {
   "cell_type": "code",
   "execution_count": 317,
   "metadata": {
    "collapsed": true
   },
   "outputs": [],
   "source": [
    "def first_country(df):\n",
    "    return df.iloc[0]"
   ]
  },
  {
   "cell_type": "code",
   "execution_count": 318,
   "metadata": {},
   "outputs": [
    {
     "data": {
      "text/plain": [
       "Summer                             13\n",
       "Gold_sum                            0\n",
       "Silver_sum                          0\n",
       "Bronze_sum                          2\n",
       "Total_sum                           2\n",
       "Winter                              0\n",
       "Gold_win                            0\n",
       "Silver_win                          0\n",
       "Bronze_win                          0\n",
       "Total_win                           0\n",
       "Games                              13\n",
       "Gold_tot                            0\n",
       "Silver_tot                          0\n",
       "Bronze_tot                          2\n",
       "Combined total                      2\n",
       "split             [Afghanistan, AFG)]\n",
       "country_code                      AFG\n",
       "Name: Afghanistan, dtype: object"
      ]
     },
     "execution_count": 318,
     "metadata": {},
     "output_type": "execute_result"
    }
   ],
   "source": [
    "first_country(DF)"
   ]
  },
  {
   "cell_type": "markdown",
   "metadata": {},
   "source": [
    "Below function returns country which has maximum gold medals."
   ]
  },
  {
   "cell_type": "code",
   "execution_count": 303,
   "metadata": {},
   "outputs": [],
   "source": [
    "def gold_medal(df):\n",
    "    return DF['Gold_sum'].argmax(0)\n",
    "    "
   ]
  },
  {
   "cell_type": "code",
   "execution_count": 304,
   "metadata": {},
   "outputs": [
    {
     "data": {
      "text/plain": [
       "'United States'"
      ]
     },
     "execution_count": 304,
     "metadata": {},
     "output_type": "execute_result"
    }
   ],
   "source": [
    "gold_medal(DF)"
   ]
  },
  {
   "cell_type": "markdown",
   "metadata": {},
   "source": [
    "Below function returns country which has the biggest difference in gold medal counts."
   ]
  },
  {
   "cell_type": "code",
   "execution_count": 305,
   "metadata": {
    "collapsed": true
   },
   "outputs": [],
   "source": [
    "def biggest_difference_in_gold_medal(df):\n",
    "    return (DF.Gold_sum - DF.Gold_win).abs().argmax()"
   ]
  },
  {
   "cell_type": "code",
   "execution_count": 306,
   "metadata": {},
   "outputs": [
    {
     "data": {
      "text/plain": [
       "'United States'"
      ]
     },
     "execution_count": 306,
     "metadata": {},
     "output_type": "execute_result"
    }
   ],
   "source": [
    "biggest_difference_in_gold_medal(DF)"
   ]
  },
  {
   "cell_type": "markdown",
   "metadata": {},
   "source": [
    "Below function returns Points table alogwith respective country name."
   ]
  },
  {
   "cell_type": "code",
   "execution_count": 307,
   "metadata": {},
   "outputs": [],
   "source": [
    "def get_points(df):\n",
    "    points = np.zeros(len(DF))\n",
    "    points += DF.Gold_tot * 3\n",
    "    points += DF.Silver_tot * 2\n",
    "    points += DF.Bronze_tot * 1\n",
    "    return pd.Series(points, index=DF.index)"
   ]
  },
  {
   "cell_type": "code",
   "execution_count": 308,
   "metadata": {},
   "outputs": [],
   "source": [
    "points=get_points(DF)"
   ]
  },
  {
   "cell_type": "code",
   "execution_count": 309,
   "metadata": {},
   "outputs": [
    {
     "name": "stdout",
     "output_type": "stream",
     "text": [
      "country_name\n",
      "Afghanistan                            2.0\n",
      "Algeria                               27.0\n",
      "Argentina                            130.0\n",
      "Armenia                               16.0\n",
      "Australasia                           22.0\n",
      "Australia                            923.0\n",
      "Austria                              569.0\n",
      "Azerbaijan                            43.0\n",
      "Bahamas                               24.0\n",
      "Bahrain                                1.0\n",
      "Barbados                               1.0\n",
      "Belarus                              154.0\n",
      "Belgium                              276.0\n",
      "Bermuda                                1.0\n",
      "Bohemia                                5.0\n",
      "Botswana                               2.0\n",
      "Brazil                               184.0\n",
      "British West Indies                    2.0\n",
      "Bulgaria                             411.0\n",
      "Burundi                                3.0\n",
      "Cameroon                              12.0\n",
      "Canada                               846.0\n",
      "Chile                                 24.0\n",
      "China                               1120.0\n",
      "Colombia                              29.0\n",
      "Costa Rica                             7.0\n",
      "Ivory Coast                            2.0\n",
      "Croatia                               67.0\n",
      "Cuba                                 420.0\n",
      "Cyprus                                 2.0\n",
      "                                     ...  \n",
      "Spain                                268.0\n",
      "Sri Lanka                              4.0\n",
      "Sudan                                  2.0\n",
      "Suriname                               4.0\n",
      "Sweden                              1217.0\n",
      "Switzerland                          630.0\n",
      "Syria                                  6.0\n",
      "Chinese Taipei                        32.0\n",
      "Tajikistan                             4.0\n",
      "Tanzania                               4.0\n",
      "Thailand                              44.0\n",
      "Togo                                   1.0\n",
      "Tonga                                  2.0\n",
      "Trinidad and Tobago                   27.0\n",
      "Tunisia                               19.0\n",
      "Turkey                               191.0\n",
      "Uganda                                14.0\n",
      "Ukraine                              220.0\n",
      "United Arab Emirates                   3.0\n",
      "United States                       5684.0\n",
      "Uruguay                               16.0\n",
      "Uzbekistan                            38.0\n",
      "Venezuela                             18.0\n",
      "Vietnam                                4.0\n",
      "Virgin Islands                         2.0\n",
      "Yugoslavia                           171.0\n",
      "Independent Olympic Participants       4.0\n",
      "Zambia                                 3.0\n",
      "Zimbabwe                              18.0\n",
      "Mixed team                            38.0\n",
      "Length: 146, dtype: float64\n"
     ]
    }
   ],
   "source": [
    "print(points)\n"
   ]
  },
  {
   "cell_type": "code",
   "execution_count": 310,
   "metadata": {},
   "outputs": [],
   "source": [
    "DF1 = DF.copy()\n",
    "DF1.drop(\"split\",axis=1,inplace=True)\n",
    "DF1.drop(\"country_code\",axis=1,inplace=True)"
   ]
  },
  {
   "cell_type": "markdown",
   "metadata": {},
   "source": [
    "Below function returns Elbow curve to check optimum K value.\n",
    "By looking at graph, it suggests K value near 3 and we also have 3 types medals where we can distribute data.\n"
   ]
  },
  {
   "cell_type": "code",
   "execution_count": null,
   "metadata": {
    "collapsed": true
   },
   "outputs": [],
   "source": []
  },
  {
   "cell_type": "code",
   "execution_count": 311,
   "metadata": {},
   "outputs": [],
   "source": [
    "from sklearn.cluster import KMeans"
   ]
  },
  {
   "cell_type": "code",
   "execution_count": 358,
   "metadata": {
    "collapsed": true
   },
   "outputs": [],
   "source": [
    "def k_means(df):\n",
    "    distorsions = []\n",
    "    for k in range(2, 20):\n",
    "        kmeans = KMeans(n_clusters=k)\n",
    "        kmeans.fit(df)\n",
    "        distorsions.append(kmeans.inertia_)\n",
    "\n",
    "    fig = plt.figure(figsize=(15, 5))\n",
    "    plt.plot(range(2, 20), distorsions)\n",
    "    plt.grid(True) \n",
    "    plt.title('Elbow curve')"
   ]
  },
  {
   "cell_type": "code",
   "execution_count": 359,
   "metadata": {
    "scrolled": true
   },
   "outputs": [
    {
     "data": {
      "image/png": "[encoded data removed]",
      "text/plain": [
       "<matplotlib.figure.Figure at 0x2425e574550>"
      ]
     },
     "metadata": {},
     "output_type": "display_data"
    }
   ],
   "source": [
    "k_means(DF1)"
   ]
  },
  {
   "cell_type": "markdown",
   "metadata": {},
   "source": [
    "Following array gives cluster centres"
   ]
  },
  {
   "cell_type": "code",
   "execution_count": 346,
   "metadata": {},
   "outputs": [],
   "source": [
    "kmeans = KMeans(n_clusters=3)"
   ]
  },
  {
   "cell_type": "code",
   "execution_count": 347,
   "metadata": {},
   "outputs": [
    {
     "data": {
      "text/plain": [
       "KMeans(algorithm='auto', copy_x=True, init='k-means++', max_iter=300,\n",
       "    n_clusters=3, n_init=10, n_jobs=1, precompute_distances='auto',\n",
       "    random_state=None, tol=0.0001, verbose=0)"
      ]
     },
     "execution_count": 347,
     "metadata": {},
     "output_type": "execute_result"
    }
   ],
   "source": [
    "kmeans.fit(DF1)"
   ]
  },
  {
   "cell_type": "code",
   "execution_count": 348,
   "metadata": {},
   "outputs": [
    {
     "data": {
      "text/plain": [
       "array([[  1.22160000e+01,   7.92000000e+00,   9.80800000e+00,\n",
       "          1.13520000e+01,   2.90800000e+01,   4.67200000e+00,\n",
       "          9.84000000e-01,   1.28800000e+00,   1.36800000e+00,\n",
       "          3.64000000e+00,   1.68880000e+01,   8.90400000e+00,\n",
       "          1.10960000e+01,   1.27200000e+01,   3.27200000e+01],\n",
       "       [  2.00500000e+01,   1.42150000e+02,   1.39600000e+02,\n",
       "          1.52250000e+02,   4.34000000e+02,   1.78500000e+01,\n",
       "          3.70000000e+01,   3.47500000e+01,   3.46500000e+01,\n",
       "          1.06400000e+02,   3.79000000e+01,   1.79150000e+02,\n",
       "          1.74350000e+02,   1.86900000e+02,   5.40400000e+02],\n",
       "       [  2.60000000e+01,   9.76000000e+02,   7.57000000e+02,\n",
       "          6.66000000e+02,   2.39900000e+03,   2.20000000e+01,\n",
       "          9.60000000e+01,   1.02000000e+02,   8.40000000e+01,\n",
       "          2.82000000e+02,   4.80000000e+01,   1.07200000e+03,\n",
       "          8.59000000e+02,   7.50000000e+02,   2.68100000e+03]])"
      ]
     },
     "execution_count": 348,
     "metadata": {},
     "output_type": "execute_result"
    }
   ],
   "source": [
    "kmeans.cluster_centers_"
   ]
  }
 ],
 "metadata": {
  "kernelspec": {
   "display_name": "Python 3",
   "language": "python",
   "name": "python3"
  },
  "language_info": {
   "codemirror_mode": {
    "name": "ipython",
    "version": 3
   },
   "file_extension": ".py",
   "mimetype": "text/x-python",
   "name": "python",
   "nbconvert_exporter": "python",
   "pygments_lexer": "ipython3",
   "version": "3.6.1"
  }
 },
 "nbformat": 4,
 "nbformat_minor": 2
}
